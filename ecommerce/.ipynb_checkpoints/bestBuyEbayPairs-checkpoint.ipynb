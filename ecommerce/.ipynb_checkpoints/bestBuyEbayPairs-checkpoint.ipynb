{
 "cells": [
  {
   "cell_type": "code",
   "execution_count": 1,
   "metadata": {
    "collapsed": true
   },
   "outputs": [],
   "source": [
    "from bestbuy import *\n",
    "from credentials import *\n",
    "from ebaysdk.finding import Connection as finding\n",
    "import ebaysdk\n",
    "import numpy as np\n",
    "import pandas as pd\n",
    "import multiprocessing"
   ]
  },
  {
   "cell_type": "code",
   "execution_count": 2,
   "metadata": {
    "collapsed": true
   },
   "outputs": [],
   "source": [
    "bb = BestbuyClient(api_key)\n",
    "\n",
    "# columns for price table\n",
    "upcs_for_price_frame = []\n",
    "ebay_prices = []\n",
    "best_buy_prices = []\n",
    "\n",
    "# columns for match table\n",
    "ebay_names_for_match_frame = []\n",
    "best_buy_names_for_match_frame = []\n",
    "match_inds = []\n",
    "\n",
    "# columns for best buy table\n",
    "upcs_for_best_buy_frame = []\n",
    "names_for_best_buy_frame = []\n",
    "\n",
    "# columns for ebay table\n",
    "upcs_for_ebay_frame = []\n",
    "names_for_ebay_frame = []\n",
    "ids_for_ebay_frame = []\n",
    "\n",
    "\n",
    "bb.products_fields = ['upc', 'name','regularPrice']"
   ]
  },
  {
   "cell_type": "code",
   "execution_count": null,
   "metadata": {
    "collapsed": false
   },
   "outputs": [],
   "source": [
    "def processPage(pageNbr):\n",
    "    try:\n",
    "        products = bb.products(page = pageNbr)\n",
    "        for product in products:\n",
    "            best_buy_name = product['name']\n",
    "            product_upc  = product['upc']\n",
    "            best_buy_price = product['regularPrice']\n",
    "            # add to best buy table\n",
    "            upcs_for_best_buy_frame.append(product_upc)\n",
    "            names_for_best_buy_frame.append(best_buy_name)\n",
    "            f = finding()\n",
    "            f.execute('findItemsByProduct', '<productId type=\"UPC\">' + product_upc + '</productId>')\n",
    "            dom = f.response_dom()\n",
    "            items = dom.getElementsByTagName('item')\n",
    "            if len(items) > 0:\n",
    "                try:\n",
    "                    ebay_names = list(map(lambda x : x.getElementsByTagName('title')[0].firstChild.nodeValue, items))\n",
    "                    first_item = items[0]\n",
    "                    ebay_id = first_item.getElementsByTagName('productId')[0].firstChild.nodeValue\n",
    "                    ebay_price = first_item.getElementsByTagName('sellingStatus')[0].getElementsByTagName('currentPrice')[0].firstChild.nodeValue\n",
    "\n",
    "                    # add to price table\n",
    "                    upcs_for_price_frame.append(product_upc)\n",
    "                    ebay_prices.append(ebay_price)\n",
    "                    best_buy_prices.append(best_buy_price)\n",
    "\n",
    "                    # add to ebay table\n",
    "                    for ebay_name in ebay_names:\n",
    "                        upcs_for_ebay_frame.append(product_upc)\n",
    "                        names_for_ebay_frame.append(ebay_name)\n",
    "                        ids_for_ebay_frame.append(ebay_id)\n",
    "                        # add to match table\n",
    "                        ebay_names_for_match_frame.append(ebay_name)\n",
    "                        best_buy_names_for_match_frame.append(best_buy_name)\n",
    "                        match_inds.append(1)\n",
    "                except:\n",
    "                    pass\n",
    "            else:\n",
    "                ebay_id = 0\n",
    "            try:\n",
    "                f = finding()\n",
    "                f.execute('findItemsAdvanced', {'keywords': best_buy_name})\n",
    "                dom = f.response_dom()\n",
    "                items = dom.getElementsByTagName('item')[:15]\n",
    "                if len(items) > 0:\n",
    "                    for item in items:\n",
    "                        try:\n",
    "                            curr_ebay_id = item.getElementsByTagName('productId')[0].firstChild.nodeValue\n",
    "                        except:\n",
    "                            curr_ebay_id = -1\n",
    "                        if curr_ebay_id != ebay_id:\n",
    "                            curr_ebay_name = item.getElementsByTagName('title')[0].firstChild.nodeValue\n",
    "                            best_buy_names_for_match_frame.append(best_buy_name)\n",
    "                            ebay_names_for_match_frame.append(curr_ebay_name)\n",
    "                            match_inds.append(0)\n",
    "            except:\n",
    "                pass\n",
    "    except:\n",
    "        pass"
   ]
  },
  {
   "cell_type": "code",
   "execution_count": null,
   "metadata": {
    "collapsed": false
   },
   "outputs": [
    {
     "name": "stderr",
     "output_type": "stream",
     "text": [
      "WARNING:ebaysdk:response_dom() DEPRECATED, use response.dom instead\n",
      "WARNING:ebaysdk:response_dom() DEPRECATED, use response.dom instead\n",
      "WARNING:ebaysdk:response_dom() DEPRECATED, use response.dom instead\n",
      "WARNING:ebaysdk:response_dom() DEPRECATED, use response.dom instead\n",
      "WARNING:ebaysdk:response_dom() DEPRECATED, use response.dom instead\n",
      "WARNING:ebaysdk:response_dom() DEPRECATED, use response.dom instead\n",
      "WARNING:ebaysdk:response_dom() DEPRECATED, use response.dom instead\n",
      "ERROR:ebaysdk:findItemsAdvanced: Internal Server Error, Domain: CoreRuntime, Severity: Error, errorId: 2030, Internal error: [com.ctc.wstx.exc.WstxLazyException] com.ctc.wstx.exc.WstxUnexpectedCharException: Unexpected character ' ' (code 32); expected a semi-colon after the reference for entity 'B'\n",
      " at javax.xml.stream.SerializableLocation@63d663d6\n",
      "WARNING:ebaysdk:response_dom() DEPRECATED, use response.dom instead\n",
      "WARNING:ebaysdk:response_dom() DEPRECATED, use response.dom instead\n",
      "WARNING:ebaysdk:response_dom() DEPRECATED, use response.dom instead\n",
      "WARNING:ebaysdk:response_dom() DEPRECATED, use response.dom instead\n",
      "WARNING:ebaysdk:response_dom() DEPRECATED, use response.dom instead\n",
      "WARNING:ebaysdk:response_dom() DEPRECATED, use response.dom instead\n",
      "WARNING:ebaysdk:response_dom() DEPRECATED, use response.dom instead\n",
      "WARNING:ebaysdk:response_dom() DEPRECATED, use response.dom instead\n",
      "WARNING:ebaysdk:response_dom() DEPRECATED, use response.dom instead\n",
      "WARNING:ebaysdk:response_dom() DEPRECATED, use response.dom instead\n",
      "WARNING:ebaysdk:response_dom() DEPRECATED, use response.dom instead\n",
      "WARNING:ebaysdk:response_dom() DEPRECATED, use response.dom instead\n",
      "WARNING:ebaysdk:response_dom() DEPRECATED, use response.dom instead\n",
      "WARNING:ebaysdk:response_dom() DEPRECATED, use response.dom instead\n"
     ]
    }
   ],
   "source": [
    "for i in np.arange(1,500):\n",
    "    processPage(i)"
   ]
  },
  {
   "cell_type": "code",
   "execution_count": null,
   "metadata": {
    "collapsed": false
   },
   "outputs": [],
   "source": [
    "price_frame = pd.DataFrame({'UPC': upcs_for_price_frame, 'best_buy_price': best_buy_prices\n",
    "    , 'ebay_price': ebay_prices})\n",
    "ebay_frame = pd.DataFrame({'UPC': upcs_for_ebay_frame, 'product_id': ids_for_ebay_frame\n",
    "    , 'name': names_for_ebay_frame})\n",
    "best_buy_frame = pd.DataFrame({'UPC': upcs_for_best_buy_frame, 'name': names_for_best_buy_frame})\n",
    "match_frame = pd.DataFrame({'best_buy_name': best_buy_names_for_match_frame\n",
    "    , 'ebay_name': ebay_names_for_match_frame, 'match_ind': match_inds})"
   ]
  },
  {
   "cell_type": "code",
   "execution_count": null,
   "metadata": {
    "collapsed": false
   },
   "outputs": [],
   "source": [
    "price_frame.to_csv('ebay_best_buy_data/price_table_3.csv', index=False, encoding='utf-8')\n",
    "ebay_frame.to_csv('ebay_best_buy_data/ebay_table_3.csv', index=False, encoding='utf-8')\n",
    "best_buy_frame.to_csv('ebay_best_buy_data/best_buy_table_3.csv', index=False, encoding='utf-8')\n",
    "match_frame.to_csv('ebay_best_buy_data/match_table_3.csv', index=False, encoding='utf-8')"
   ]
  },
  {
   "cell_type": "code",
   "execution_count": null,
   "metadata": {
    "collapsed": false
   },
   "outputs": [],
   "source": [
    "match_frame.loc[match_frame.match_ind==0]"
   ]
  },
  {
   "cell_type": "code",
   "execution_count": null,
   "metadata": {
    "collapsed": true
   },
   "outputs": [],
   "source": []
  }
 ],
 "metadata": {
  "kernelspec": {
   "display_name": "Python 2",
   "language": "python",
   "name": "python2"
  },
  "language_info": {
   "codemirror_mode": {
    "name": "ipython",
    "version": 2
   },
   "file_extension": ".py",
   "mimetype": "text/x-python",
   "name": "python",
   "nbconvert_exporter": "python",
   "pygments_lexer": "ipython2",
   "version": "2.7.6"
  }
 },
 "nbformat": 4,
 "nbformat_minor": 0
}
